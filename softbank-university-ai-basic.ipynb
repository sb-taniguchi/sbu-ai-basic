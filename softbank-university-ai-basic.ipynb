{
 "cells": [
  {
   "cell_type": "markdown",
   "metadata": {
    "id": "3AmQLme6-TVN"
   },
   "source": [
    "# Notebook概要\n",
    "- 社内研修「AI基礎研修」用ノートブック\n",
    "- 研修参加者以外への共有はお控えください"
   ]
  },
  {
   "cell_type": "markdown",
   "metadata": {
    "id": "eG0_6GuB8xoI"
   },
   "source": [
    "# 共通事前準備"
   ]
  },
  {
   "cell_type": "code",
   "execution_count": null,
   "metadata": {
    "cellView": "both",
    "id": "ThdpjWesf3wu"
   },
   "outputs": [],
   "source": [
    "# 日本語表示用フォントインストール\n",
    "!apt-get -qy install fonts-ipafont-gothic\n",
    "!rm /root/.cache/matplotlib/fontlist-v310.json\n",
    "\n",
    "# 決定木可視化用ライブラリ\n",
    "!pip -q install dtreeviz\n",
    "!apt-get -qy install pdf2svg\n",
    "!apt-get -qy install graphviz\n",
    "\n",
    "# 可視化用ライブラリ\n",
    "!pip -q install mglearn"
   ]
  },
  {
   "cell_type": "markdown",
   "metadata": {
    "id": "iECFvVqKAyJG"
   },
   "source": [
    "* 上記セルを実行後ランタイムを再起動してください"
   ]
  },
  {
   "cell_type": "code",
   "execution_count": null,
   "metadata": {
    "id": "AEcJW-UE81v7"
   },
   "outputs": [],
   "source": [
    "# 日本語フォント設定\n",
    "import matplotlib.pyplot as plt\n",
    "plt.rcParams['font.family'] = 'IPAPGothic'\n",
    "\n",
    "# 一般的な分析用ライブラリ\n",
    "import pandas as pd\n",
    "import numpy as np\n",
    "import seaborn as sns\n",
    "import matplotlib.pyplot as plt\n",
    "from mpl_toolkits.mplot3d import Axes3D\n",
    "from scipy.stats import multivariate_normal\n",
    "import mglearn\n",
    "\n",
    "# 機械学習用ライブラリ\n",
    "from sklearn.datasets import load_boston\n",
    "from sklearn.model_selection import train_test_split\n",
    "from sklearn.model_selection import cross_val_score\n",
    "from sklearn.model_selection import StratifiedKFold\n",
    "from sklearn.model_selection import KFold\n",
    "from sklearn.model_selection import GridSearchCV\n",
    "from sklearn.linear_model import LinearRegression, SGDRegressor, Lasso, Ridge, ElasticNet\n",
    "from sklearn.svm import SVR\n",
    "from sklearn.tree import DecisionTreeRegressor, DecisionTreeClassifier\n",
    "from sklearn.cluster import KMeans\n",
    "from sklearn.decomposition import PCA\n",
    "from sklearn.metrics.pairwise import cosine_similarity\n",
    "from sklearn.preprocessing import StandardScaler\n",
    "\n",
    "# ディープラーニング用ライブラリ\n",
    "import keras\n",
    "from keras.utils.vis_utils import model_to_dot\n",
    "from keras.utils.vis_utils import plot_model\n",
    "from IPython.display import SVG\n",
    "from tensorflow.keras.utils import to_categorical\n",
    "\n",
    "import warnings\n",
    "warnings.filterwarnings('ignore')\n",
    "\n",
    "# 計算時間計測用\n",
    "import time\n",
    "\n",
    "%matplotlib inline"
   ]
  },
  {
   "cell_type": "markdown",
   "metadata": {
    "id": "oYsyrr7m7tCH"
   },
   "source": [
    "# 回帰"
   ]
  },
  {
   "cell_type": "markdown",
   "metadata": {
    "id": "9f5W01Gtbr8K"
   },
   "source": [
    "|カラム名（英）|カラム名（日）|\n",
    "|---|---|\n",
    "|CRIM|人口 1 人当たりの犯罪発生数|\n",
    "|ZN|25,000 平方フィート以上の住居区画の占める割合|\n",
    "|INDUS|小売業以外の商業が占める面積の割合|\n",
    "|CHAS|チャールズ川によるダミー変数 (1: 川の周辺, 0: それ以外)|\n",
    "|NOX|NOx の濃度|\n",
    "|RM|住居の平均部屋数|\n",
    "|AGE|1940 年より前に建てられた物件の割合|\n",
    "|DIS|5 つのボストン市の雇用施設からの距離 (重み付け済)|\n",
    "|RAD|環状高速道路へのアクセスしやすさ|\n",
    "|TAX|$10,000 ドルあたりの不動産税率の総計|\n",
    "|PTRATIO|町毎の児童と教師の比率|\n",
    "|B|町毎の黒人 (Bk) の比率を次の式で表したもの。 1000(Bk – 0.63)^2|\n",
    "|LSTAT|給与の低い職業に従事する人口の割合 (%)|"
   ]
  },
  {
   "cell_type": "markdown",
   "metadata": {
    "id": "DMjtx7JX9Q4W"
   },
   "source": [
    "## データの読み込み"
   ]
  },
  {
   "cell_type": "code",
   "execution_count": null,
   "metadata": {
    "id": "HCPcXgxL9SwU"
   },
   "outputs": [],
   "source": [
    "boston = load_boston()\n",
    "df_boston = pd.DataFrame(boston['data'], columns=boston['feature_names'])\n",
    "df_boston['target'] = boston['target']\n",
    "columns_jp = [\n",
    "              '犯罪発生数',\n",
    "              '25,000平方f以上住居の割合',\n",
    "              '小売業以外商業の割合',\n",
    "              'チャールズ川周辺',\n",
    "              'NOx濃度',\n",
    "              '平均部屋数',\n",
    "              '1940年以前割合',\n",
    "              '雇用施設の距離',\n",
    "              '高速道路アクセス',\n",
    "              '不動産税率',\n",
    "              '児童教師比率',\n",
    "              '黒人比率',\n",
    "              '低所得職業比率',\n",
    "              '住宅価格'\n",
    "]\n",
    "df_boston.columns = columns_jp\n",
    "print(f'shape: {df_boston.shape}\\n')\n",
    "\n",
    "X = df_boston.iloc[:,:-1]\n",
    "y = df_boston.iloc[:,-1]\n",
    "\n",
    "X_train, X_test, y_train, y_test = train_test_split(X, y, test_size=0.1, random_state=0)\n",
    "\n",
    "df_boston.head(20)"
   ]
  },
  {
   "cell_type": "markdown",
   "metadata": {
    "id": "Hc1aXJfwEeGT"
   },
   "source": [
    "## データの可視化"
   ]
  },
  {
   "cell_type": "markdown",
   "metadata": {
    "id": "uEyXZvPdaG1U"
   },
   "source": [
    "### 特徴量別に統計量を見てみよう"
   ]
  },
  {
   "cell_type": "code",
   "execution_count": null,
   "metadata": {
    "id": "TYFAZ-5eaFw1"
   },
   "outputs": [],
   "source": [
    "df_boston.describe()"
   ]
  },
  {
   "cell_type": "markdown",
   "metadata": {
    "id": "mVY0SSxxpIai"
   },
   "source": [
    "### 特徴量別にデータの分布を見てみよう"
   ]
  },
  {
   "cell_type": "code",
   "execution_count": null,
   "metadata": {
    "id": "c18021hfnaBg"
   },
   "outputs": [],
   "source": [
    "# 描画領域準備\n",
    "fig, axes = plt.subplots(4, 4, dpi=80, figsize=(20,10))\n",
    "fig.subplots_adjust(wspace=0.3, hspace=0.5, top=0.92)\n",
    "\n",
    "# ヒストグラム描画\n",
    "for i, column in enumerate(df_boston.columns):\n",
    "    ax = axes[i//4, i%4]\n",
    "    ax.hist(df_boston[column], bins=20)\n",
    "    ax.set_title(column)\n",
    "    ax.grid()\n",
    "    ax.set_ylim(0,500)\n",
    "\n",
    "# 余剰グラフ非表示\n",
    "for i in range(df_boston.shape[1], axes.flatten().shape[0]):\n",
    "    ax = axes[i//4, i%4]\n",
    "    ax.axis(\"off\")\n",
    "\n",
    "plt.show()"
   ]
  },
  {
   "cell_type": "markdown",
   "metadata": {
    "id": "rudyYC-drUrY"
   },
   "source": [
    "### どの特徴量が効いていそうか"
   ]
  },
  {
   "cell_type": "code",
   "execution_count": null,
   "metadata": {
    "id": "nu8OptUzm63Z"
   },
   "outputs": [],
   "source": [
    "fig, axes = plt.subplots(4, 4, dpi=80, figsize=(20,10))\n",
    "fig.subplots_adjust(wspace=0.3, hspace=0.6, top=0.92)\n",
    "\n",
    "for i, column in enumerate(df_boston.columns):\n",
    "    ax = axes[i//4, i%4]\n",
    "    ax.scatter(df_boston[column], df_boston['住宅価格'], marker='.', alpha=0.5)\n",
    "    ax.set_xlabel(column),\n",
    "    ax.set_ylabel('住宅価格')\n",
    "    ax.grid()\n",
    "\n",
    "# 余剰グラフ非表示\n",
    "for i in range(df_boston.shape[1], axes.flatten().shape[0]):\n",
    "    ax = axes[i//4, i%4]\n",
    "    ax.axis(\"off\")\n",
    "\n",
    "plt.show()"
   ]
  },
  {
   "cell_type": "markdown",
   "metadata": {
    "id": "jwdH6K86DuJr"
   },
   "source": [
    "### 線形回帰してみる"
   ]
  },
  {
   "cell_type": "code",
   "execution_count": null,
   "metadata": {
    "id": "hp9Tfc5Rrcmy"
   },
   "outputs": [],
   "source": [
    "fig, ax = plt.subplots(figsize=(10,5), dpi=160)\n",
    "X_reg = np.array(df_boston['平均部屋数']).reshape(-1,1)\n",
    "y_reg = df_boston['住宅価格']\n",
    "reg = LinearRegression().fit(X_reg, y_reg)\n",
    "ax.scatter(X_reg, y_reg, alpha=0.5)\n",
    "ax.set_xlabel('平均部屋数')\n",
    "ax.set_ylabel('住宅価格')\n",
    "ax.grid()\n",
    "plt.show()"
   ]
  },
  {
   "cell_type": "code",
   "execution_count": null,
   "metadata": {
    "id": "6MPWTbDNlPro"
   },
   "outputs": [],
   "source": [
    "def boston_linear_regression(feature):\n",
    "    fig, ax = plt.subplots(figsize=(10,5), dpi=160)\n",
    "    X_reg = np.array(df_boston[feature]).reshape(-1,1)\n",
    "    y_reg = df_boston['住宅価格']\n",
    "    line = np.linspace(X_reg.min(), X_reg.max(), X_reg.shape[0], endpoint=False).reshape(-1, 1)\n",
    "    reg = LinearRegression().fit(X_reg, y_reg)\n",
    "    ax.scatter(X_reg, y_reg, alpha=0.5)\n",
    "    ax.plot(line, reg.predict(line), label='線形回帰', c='k', alpha=0.5)\n",
    "    ax.set_xlabel(feature)\n",
    "    ax.set_ylabel('住宅価格')\n",
    "    ax.legend()\n",
    "    ax.grid()\n",
    "    plt.show()"
   ]
  },
  {
   "cell_type": "code",
   "execution_count": null,
   "metadata": {
    "id": "Iu8XuHLIiQX9"
   },
   "outputs": [],
   "source": [
    "boston_linear_regression('平均部屋数')"
   ]
  },
  {
   "cell_type": "code",
   "execution_count": null,
   "metadata": {
    "id": "C05GX5j8l0M9"
   },
   "outputs": [],
   "source": [
    "boston_linear_regression('児童教師比率')"
   ]
  },
  {
   "cell_type": "markdown",
   "metadata": {
    "id": "a5_6MR8PD1ce"
   },
   "source": [
    "### 2変数で見てみる（3D）"
   ]
  },
  {
   "cell_type": "code",
   "execution_count": null,
   "metadata": {
    "id": "6Wav9O8ztY-0"
   },
   "outputs": [],
   "source": [
    "x_ = np.array(df_boston['低所得職業比率']).reshape(-1,1)\n",
    "y_ = np.array(df_boston['平均部屋数']).reshape(-1,1)\n",
    "z_ = df_boston['住宅価格']\n",
    "\n",
    "X1, X2 = np.meshgrid(x_, y_)\n",
    "X_plot = np.c_[np.ravel(X1), np.ravel(X2)]\n",
    "\n",
    "fig = plt.figure(dpi=160, figsize=(10,5))\n",
    "ax = fig.add_subplot(111, projection='3d')\n",
    "# ax.scatter3D(x_, y_, z_, s=z_, alpha=0.3)\n",
    "ax.scatter3D(x_, y_, z_, alpha=0.3)\n",
    "ax.set_title(\"平均部屋数・低所得職業比率 と 住宅価格の関係\")\n",
    "ax.set_xlabel('低所得職業比率')\n",
    "ax.set_ylabel('平均部屋数')\n",
    "ax.set_zlabel('住宅価格')\n",
    "plt.show()"
   ]
  },
  {
   "cell_type": "markdown",
   "metadata": {
    "id": "bJwqIQEmDwkP"
   },
   "source": [
    "### 2変数で見てみる"
   ]
  },
  {
   "cell_type": "code",
   "execution_count": null,
   "metadata": {
    "id": "G_l-YTbwpfGL"
   },
   "outputs": [],
   "source": [
    "fig, ax = plt.subplots(figsize=(10,5), dpi=160)\n",
    "y_reg = np.array(df_boston['平均部屋数']).reshape(-1,1)\n",
    "X_reg = np.array(df_boston['低所得職業比率']).reshape(-1,1)\n",
    "price = df_boston['住宅価格'] * 3\n",
    "\n",
    "ax.scatter(X_reg, y_reg, s=price, cmap='winter', alpha=0.4, label='住宅価格')\n",
    "ax.set_xlabel('低所得職業比率')\n",
    "ax.set_ylabel('平均部屋数')\n",
    "ax.legend()\n",
    "ax.grid(color='gray', alpha=0.2)\n",
    "plt.show()"
   ]
  },
  {
   "cell_type": "markdown",
   "metadata": {
    "id": "v0GNofW7gbOl"
   },
   "source": [
    "## 決定木回帰で予測"
   ]
  },
  {
   "cell_type": "markdown",
   "metadata": {
    "id": "ucgrclLavZ_Y"
   },
   "source": [
    "### 決定木回帰のモデル"
   ]
  },
  {
   "cell_type": "code",
   "execution_count": null,
   "metadata": {
    "id": "_bsvXvadvQxj"
   },
   "outputs": [],
   "source": [
    "from sklearn.datasets import *\n",
    "from sklearn import tree\n",
    "from dtreeviz.trees import *\n",
    "import graphviz\n",
    "\n",
    "for depth in range(1,5,1):\n",
    "    regr = tree.DecisionTreeRegressor(max_depth=depth)\n",
    "    boston = load_boston()\n",
    "    regr.fit(boston.data, boston.target)\n",
    "\n",
    "    viz = dtreeviz(regr,\n",
    "                boston.data,\n",
    "                boston.target,\n",
    "                target_name='price',\n",
    "                feature_names=boston.feature_names)\n",
    "    \n",
    "    print(f'★★★ depth: {depth}\\n\\n\\n')\n",
    "    display(viz)\n",
    "    plt.show()\n",
    "    viz.save(f\"decision_tree_regressor_depth_{depth}.svg\")"
   ]
  },
  {
   "cell_type": "markdown",
   "metadata": {
    "id": "8lzASpsJvhUm"
   },
   "source": [
    "### 特徴量別重要度"
   ]
  },
  {
   "cell_type": "code",
   "execution_count": null,
   "metadata": {
    "id": "F8PnCL9LgajK"
   },
   "outputs": [],
   "source": [
    "tree = DecisionTreeRegressor().fit(X_train, y_train)\n",
    "feature_importances = tree.feature_importances_\n",
    "\n",
    "df_tree = pd.DataFrame(feature_importances, index=X.columns, columns=['重要度']).sort_values('重要度', ascending=True)\n",
    "\n",
    "fig, ax = plt.subplots(figsize=(10,5), dpi=160)\n",
    "ax.barh(df_tree.index, df_tree['重要度'])\n",
    "ax.set_title('特徴量別重要度')\n",
    "\n",
    "plt.show()"
   ]
  },
  {
   "cell_type": "markdown",
   "metadata": {
    "id": "dOHJrUPyX3Jd"
   },
   "source": [
    "## いろいろなアルゴリズム"
   ]
  },
  {
   "cell_type": "markdown",
   "metadata": {
    "id": "MB7fECHBx8U3"
   },
   "source": [
    "### モデル別精度"
   ]
  },
  {
   "cell_type": "code",
   "execution_count": null,
   "metadata": {
    "id": "i0XCmaz_uyK8"
   },
   "outputs": [],
   "source": [
    "np.random.seed(0)\n",
    "regressors = {\n",
    "    '線形回帰': LinearRegression(),\n",
    "    '決定木回帰': DecisionTreeRegressor(random_state=0, max_depth=4, max_features='sqrt'),\n",
    "    'SVM(rbf)': SVR(kernel='rbf', C=1e3, gamma=0.1),\n",
    "    'Lasso': Lasso(),\n",
    "    'Ridge': Ridge(),\n",
    "    'ElasticNet': ElasticNet()\n",
    "}\n",
    "\n",
    "result_list = list()\n",
    "\n",
    "for regressor_name, regressor in regressors.items():\n",
    "    start = time.time()\n",
    "    scores = cross_val_score(regressor, X, y, cv=5, scoring='neg_mean_squared_error', n_jobs=-1)\n",
    "    elapsed_time = time.time() - start\n",
    "    result_list.append([regressor_name, abs(round(np.mean(scores),2)), round(elapsed_time, 2)])\n",
    "\n",
    "fig, ax = plt.subplots(figsize=(10,5), dpi=160)\n",
    "df_result = pd.DataFrame(result_list, columns=['estimator', 'MAE', 'processing_time']).set_index('estimator').sort_values('MAE')\n",
    "\n",
    "# モデル別スコア\n",
    "index = df_result.index\n",
    "values = df_result.MAE\n",
    "ax.bar(index, values)\n",
    "ax.set_title('モデル別スコア（MAE）')\n",
    "plt.show()"
   ]
  },
  {
   "cell_type": "markdown",
   "metadata": {
    "id": "noDxLGQx1j4h"
   },
   "source": [
    "### 計算コストとスコアのトレードオフ"
   ]
  },
  {
   "cell_type": "code",
   "execution_count": null,
   "metadata": {
    "id": "whKCq2eF4TgJ"
   },
   "outputs": [],
   "source": [
    "# 時間・スコア別モデル\n",
    "fig, ax = plt.subplots(figsize=(10,5), dpi=160)\n",
    "y_ = df_result.MAE\n",
    "x_ = df_result.processing_time\n",
    "names = df_result.index\n",
    "ax.scatter(x_, y_)\n",
    "\n",
    "ax.set_title('モデル別スコア（MAE）・計算時間')\n",
    "ax.set_xlabel('計算時間 [s]')\n",
    "ax.set_ylabel('スコア（MAE）[$1,000]')\n",
    "\n",
    "for (i,j,k) in zip(x_, y_,names):\n",
    "        ax.annotate(k, xy=(i, j))\n",
    "\n",
    "ax.grid()\n",
    "plt.show()"
   ]
  },
  {
   "cell_type": "markdown",
   "metadata": {
    "id": "dsaibxQ7D0D5"
   },
   "source": [
    "## グリッドサーチ"
   ]
  },
  {
   "cell_type": "code",
   "execution_count": null,
   "metadata": {
    "id": "HXlDE8m1FT_u"
   },
   "outputs": [],
   "source": [
    "np.random.seed(10)\n",
    "tuned_parameters = [\n",
    "    {'max_depth': [None, 1, 2, 3, 4, 5, 6, 7, 8, 9, 10, 11, 12,],\n",
    "    #  'max_features': [None, 'auto', 'sqrt', 'log2']\n",
    "    }\n",
    "]\n",
    "clf = GridSearchCV(\n",
    "    DecisionTreeRegressor(), # 識別器\n",
    "    tuned_parameters, # 最適化したいパラメータセット \n",
    "    cv=5, # 交差検定の回数\n",
    "    scoring='neg_mean_squared_error')\n",
    "\n",
    "clf.fit(X_train, y_train)\n",
    "\n",
    "df_grid_search = pd.concat([pd.DataFrame(clf.cv_results_['params']), abs(pd.DataFrame(clf.cv_results_['mean_test_score'], columns=['MAE']))], sort=False, axis=1).set_index('max_depth')\n",
    "fig, ax = plt.subplots(figsize=(10,5), dpi=160)\n",
    "ax.plot(df_grid_search.index, df_grid_search['MAE'], marker='o')\n",
    "ax.set_title('max_depth 別MAE')\n",
    "ax.set_xlabel('max_depth')\n",
    "ax.set_ylabel('MAE')\n",
    "ax.legend()\n",
    "ax.grid()\n",
    "plt.show()"
   ]
  },
  {
   "cell_type": "markdown",
   "metadata": {
    "id": "qFsuW9dg7wGV"
   },
   "source": [
    "# 分類"
   ]
  },
  {
   "cell_type": "markdown",
   "metadata": {
    "id": "PVc6ta3o70Hp"
   },
   "source": [
    "## データの読み込み"
   ]
  },
  {
   "cell_type": "markdown",
   "metadata": {
    "id": "tFZw1VHWZa6g"
   },
   "source": [
    "### 各項目の説明"
   ]
  },
  {
   "cell_type": "markdown",
   "metadata": {
    "id": "zV7SKVpePBoe"
   },
   "source": [
    "|カラム名（英）|カラム名（日）|\n",
    "|---|---|\n",
    "|mean radius|平均半径|\n",
    "|mean texture|テクスチャをグレースケールにした際の平均|\n",
    "|mean perimeter|平均外周の長さ|\n",
    "|mean area|平均面積|\n",
    "|mean smoothness|平均なめらかさ（半径の分散）|\n",
    "|mean compactness|外周長さ^2 / 面積 - 1|\n",
    "|mean concavity|輪郭の凹部の重要度の平均|\n",
    "|mean concave points|輪郭の凹部の数の平均|\n",
    "|mean symmetry|対称性|\n",
    "|mean fractal dimension|フラクタル次元の平均|\n",
    "|radius error|半径誤差|\n",
    "|texture error|テクスチャの誤差|\n",
    "|perimeter error|外周の誤差|\n",
    "|area error|面積の誤差|\n",
    "|smoothness error|なめらかさの誤差|\n",
    "|compactness error|コンパクトさの誤差|\n",
    "|concavity error|輪郭の凹部の重要度の誤差|\n",
    "|concave points error|輪郭の凹部の数の誤差|\n",
    "|symmetry error|対称性の誤差|\n",
    "|fractal dimension error|フラクタル次元の誤差|\n",
    "|worst radius|半径最悪値|\n",
    "|worst texture|テクスチャ最悪値|\n",
    "|worst perimeter|外周の長さ最悪値|\n",
    "|worst area|面積の最悪値|\n",
    "|worst smoothness|なめらかさの最悪値|\n",
    "|worst compactness|コンパクトさの最悪値|\n",
    "|worst concavity|輪郭の凹部の重要度の最悪値|\n",
    "|worst concave|輪郭の凹部の数の最悪値|\n",
    "|worst symmetry|対称性の最悪値|\n",
    "|worst fractal dimension|フラクタル次元の最悪値|"
   ]
  },
  {
   "cell_type": "markdown",
   "metadata": {
    "id": "3lA2UOFBZc7o"
   },
   "source": [
    "### データの中身確認"
   ]
  },
  {
   "cell_type": "code",
   "execution_count": null,
   "metadata": {
    "id": "mhxVQAyy72eT"
   },
   "outputs": [],
   "source": [
    "from sklearn.datasets import load_breast_cancer\n",
    "cancer = load_breast_cancer()\n",
    "\n",
    "X = pd.DataFrame(cancer.data, columns=cancer.feature_names)\n",
    "y = cancer.target\n",
    "\n",
    "X_train, X_test, y_train, y_test = train_test_split(X, y, test_size=0.1, random_state=0)\n",
    "\n",
    "df_cancer = X.copy()\n",
    "df_cancer['target'] = y\n",
    "\n",
    "column_jp = [\n",
    "    '平均半径',\n",
    "    'グレースケール時の平均',\n",
    "    '平均外周の長さ',\n",
    "    '平均面積',\n",
    "    '平均なめらかさ（半径の分散）',\n",
    "    '外周長さ^2 / 面積 - 1',\n",
    "    '輪郭の凹部の重要度の平均',\n",
    "    '輪郭の凹部の数の平均',\n",
    "    '対称性',\n",
    "    'フラクタル次元の平均',\n",
    "    '半径誤差',\n",
    "    'テクスチャの誤差',\n",
    "    '外周の誤差',\n",
    "    '面積の誤差',\n",
    "    'なめらかさの誤差',\n",
    "    'コンパクトさの誤差',\n",
    "    '輪郭の凹部の重要度の誤差',\n",
    "    '輪郭の凹部の数の誤差',\n",
    "    '対称性の誤差',\n",
    "    'フラクタル次元の誤差',\n",
    "    '半径最悪値',\n",
    "    'テクスチャ最悪値',\n",
    "    '外周の長さ最悪値',\n",
    "    '面積の最悪値',\n",
    "    'なめらかさの最悪値',\n",
    "    'コンパクトさの最悪値',\n",
    "    '輪郭凹部重要度の最悪値',\n",
    "    '輪郭の凹部の数の最悪値',\n",
    "    '対称性の最悪値',\n",
    "    'フラクタル次元の最悪値',\n",
    "]\n",
    "\n",
    "X.columns = column_jp\n",
    "X.head(10)"
   ]
  },
  {
   "cell_type": "markdown",
   "metadata": {
    "id": "G2AmGsfbZgli"
   },
   "source": [
    "### 特徴量別のヒストグラム確認"
   ]
  },
  {
   "cell_type": "code",
   "execution_count": null,
   "metadata": {
    "id": "8Swj9OEwQHEf"
   },
   "outputs": [],
   "source": [
    "column_jp.extend(['診断'])\n",
    "df_cancer.columns = column_jp\n",
    "df_cancer.head()\n",
    "\n",
    "fig, axes = plt.subplots(4, 8, dpi=80, figsize=(20,10))\n",
    "fig.subplots_adjust(wspace=0.3, hspace=0.5, top=0.92)\n",
    "\n",
    "for i, column in enumerate(df_cancer.columns):\n",
    "    ax = axes[i//8, i%8]\n",
    "    ax.hist(df_cancer[column], bins=20)\n",
    "    ax.set_title(column)\n",
    "    ax.grid()\n",
    "    ax.set_ylim(0,400)\n",
    "\n",
    "# 余剰グラフ非表示\n",
    "for i in range(df_cancer.shape[1], axes.flatten().shape[0]):\n",
    "    ax = axes[i//8, i%8]\n",
    "    ax.axis(\"off\")\n",
    "\n",
    "plt.show()"
   ]
  },
  {
   "cell_type": "markdown",
   "metadata": {
    "id": "LOAg7HYFZj-U"
   },
   "source": [
    "### 特徴量別の診断結果別ヒストグラムの確認"
   ]
  },
  {
   "cell_type": "code",
   "execution_count": null,
   "metadata": {
    "id": "aJqPzKkFTKvB"
   },
   "outputs": [],
   "source": [
    "# ビンの取得\n",
    "fig, axes = plt.subplots(4, 8)\n",
    "bins_list = list()\n",
    "for i, column in enumerate(df_cancer.columns):\n",
    "    ax_tmp = axes[i//8, i%8]\n",
    "    n, bins, pathces = ax_tmp.hist(df_cancer[column].values.flatten(), alpha=0.5, bins=20)\n",
    "    bins_list.append(bins)\n",
    "plt.clf()\n",
    "\n",
    "# ヒストグラム描画\n",
    "fig, axes = plt.subplots(4, 8, dpi=80, figsize=(20,10))\n",
    "fig.subplots_adjust(wspace=0.3, hspace=0.5, top=0.92)\n",
    "fig.patch.set_facecolor('white')\n",
    "\n",
    "for diagnosis in [0, 1]:\n",
    "    df_plot = df_cancer.query('診断 == @diagnosis')\n",
    "    for i, column in enumerate(df_cancer.columns):\n",
    "        ax = axes[i//8, i%8]\n",
    "        ax.hist(df_plot[column].values.flatten(), alpha=0.5, bins=bins_list[i], label=diagnosis)\n",
    "        ax.set_xlabel(column)\n",
    "        ax.legend()\n",
    "\n",
    "# 余剰グラフ非表示\n",
    "for i in range(df_cancer.shape[1], axes.flatten().shape[0]):\n",
    "    ax = axes[i//8, i%8]\n",
    "    ax.axis(\"off\")\n",
    "\n",
    "plt.show()"
   ]
  },
  {
   "cell_type": "markdown",
   "metadata": {
    "id": "LJN2B-cAgzw4"
   },
   "source": [
    "### 半径最悪値のヒストグラム"
   ]
  },
  {
   "cell_type": "code",
   "execution_count": null,
   "metadata": {
    "id": "v_X4My3Sej7D"
   },
   "outputs": [],
   "source": [
    "column = '外周の長さ最悪値'\n",
    "# ビンの取得\n",
    "fig, ax = plt.subplots()\n",
    "ax_tmp = ax\n",
    "n, bins, pathces = ax_tmp.hist(df_cancer[column].values.flatten(), alpha=0.5, bins=20)\n",
    "plt.clf()\n",
    "\n",
    "# ヒストグラム描画\n",
    "fig, ax = plt.subplots(dpi=160, figsize=(10,5))\n",
    "fig.patch.set_facecolor('white')\n",
    "\n",
    "for diagnosis in [0, 1]:\n",
    "    df_plot = df_cancer.query('診断 == @diagnosis')\n",
    "    ax.hist(df_plot[column].values.flatten(), alpha=0.5, bins=bins, label=diagnosis)\n",
    "    ax.set_xlabel(column)\n",
    "    ax.legend()\n",
    "\n",
    "plt.show()"
   ]
  },
  {
   "cell_type": "markdown",
   "metadata": {
    "id": "zubcQuPvI2Ep"
   },
   "source": [
    "### 外周の長さ最悪値と何かを使って..."
   ]
  },
  {
   "cell_type": "code",
   "execution_count": null,
   "metadata": {
    "id": "ZTRPERN9I4xa"
   },
   "outputs": [],
   "source": [
    "fig, axes = plt.subplots(4, 8, dpi=80, figsize=(30,15))\n",
    "fig.subplots_adjust(wspace=0.4, hspace=0.4, top=0.92)\n",
    "fig.patch.set_facecolor('white')\n",
    "\n",
    "for i, column in enumerate(df_cancer.columns):\n",
    "    ax = axes[i//8, i%8]\n",
    "    if column in ['診断', '外周の長さ最悪値']:\n",
    "        continue\n",
    "    sns.scatterplot(x=\"外周の長さ最悪値\", y=column, hue=\"診断\", data=df_cancer[[column, '外周の長さ最悪値', '診断']], ax=ax, marker='.', alpha=0.5)\n",
    "\n",
    "# 余剰グラフ非表示\n",
    "for i in range(df_cancer.shape[1], axes.flatten().shape[0]):\n",
    "    ax = axes[i//8, i%8]\n",
    "    ax.axis(\"off\")\n",
    "\n",
    "for i, column in enumerate(df_cancer.columns):\n",
    "    ax = axes[i//8, i%8]\n",
    "    if column in ['診断', '外周の長さ最悪値']:\n",
    "        ax.axis(\"off\")\n",
    "\n",
    "plt.show()"
   ]
  },
  {
   "cell_type": "markdown",
   "metadata": {
    "id": "m_YEHaquAk8u"
   },
   "source": [
    "### 2特徴量で分離"
   ]
  },
  {
   "cell_type": "code",
   "execution_count": null,
   "metadata": {
    "id": "ltDjwp6QAjuO"
   },
   "outputs": [],
   "source": [
    "fig, ax = plt.subplots(dpi=160, figsize=(10,5))\n",
    "fig.patch.set_facecolor('white')\n",
    "sns.scatterplot(x=\"外周の長さ最悪値\", y='輪郭の凹部の数の最悪値', hue=\"診断\", data=df_cancer[['輪郭の凹部の数の最悪値', '外周の長さ最悪値', '診断']], ax=ax, marker='.', alpha=0.5)\n",
    "\n",
    "plt.show()"
   ]
  },
  {
   "cell_type": "markdown",
   "metadata": {
    "id": "2nNDC7swa84I"
   },
   "source": [
    "## 決定木で予測"
   ]
  },
  {
   "cell_type": "markdown",
   "metadata": {
    "id": "ALPW888tbBZk"
   },
   "source": [
    "### 特徴量別重要度"
   ]
  },
  {
   "cell_type": "code",
   "execution_count": null,
   "metadata": {
    "id": "kLf_9hPtbEJl"
   },
   "outputs": [],
   "source": [
    "tree = DecisionTreeClassifier().fit(X_train, y_train)\n",
    "feature_importances = tree.feature_importances_\n",
    "\n",
    "df_tree = pd.DataFrame(feature_importances, index=X.columns, columns=['重要度']).sort_values('重要度', ascending=True)\n",
    "\n",
    "fig, ax = plt.subplots(figsize=(10,5), dpi=160)\n",
    "ax.barh(df_tree.index, df_tree['重要度'])\n",
    "ax.set_title('特徴量別重要度')\n",
    "\n",
    "plt.show()"
   ]
  },
  {
   "cell_type": "markdown",
   "metadata": {
    "id": "_bQSPfhiPSiC"
   },
   "source": [
    "### 決定木作成過程"
   ]
  },
  {
   "cell_type": "code",
   "execution_count": null,
   "metadata": {
    "id": "UxryMzoKBnRT"
   },
   "outputs": [],
   "source": [
    "for depth in range(1,6,1):\n",
    "    clf = DecisionTreeClassifier(max_depth=depth)\n",
    "    clf.fit(X_train, y_train)\n",
    "\n",
    "    from dtreeviz.trees import dtreeviz\n",
    "\n",
    "    viz = dtreeviz(\n",
    "        clf,\n",
    "        X_train, \n",
    "        y_train,\n",
    "        target_name='診断',\n",
    "        feature_names=X_train.columns,\n",
    "        class_names=[1,0],\n",
    "    ) \n",
    "\n",
    "    display(viz)\n",
    "    viz.save(f\"decision_tree_classifier_depth_{depth}.svg\")"
   ]
  },
  {
   "cell_type": "markdown",
   "metadata": {
    "id": "5eA-C61Qc41S"
   },
   "source": [
    "## 様々なアルゴリズム"
   ]
  },
  {
   "cell_type": "code",
   "execution_count": null,
   "metadata": {
    "id": "DDxPchupjkh9"
   },
   "outputs": [],
   "source": [
    "# モジュール読み込み\n",
    "from sklearn.neighbors import KNeighborsClassifier\n",
    "from sklearn.svm import SVC\n",
    "from sklearn.gaussian_process import GaussianProcessClassifier\n",
    "from sklearn.tree import DecisionTreeClassifier\n",
    "from sklearn.ensemble import RandomForestClassifier, AdaBoostClassifier\n",
    "from sklearn.neural_network import MLPClassifier\n",
    "from sklearn.naive_bayes import GaussianNB\n",
    "from sklearn.gaussian_process.kernels import RBF\n",
    "from sklearn.discriminant_analysis import QuadraticDiscriminantAnalysis\n",
    "\n",
    "np.random.seed(0)\n",
    "\n",
    "classifier_names = [\"Nearest Neighbors\", \"Linear SVM\", \"RBF SVM\", \"Gaussian Process\",\n",
    "         \"Decision Tree\", \"Random Forest\", \"Neural Net\", \"AdaBoost\",\n",
    "         \"Naive Bayes\", \"QDA\"]\n",
    "\n",
    "classifiers = [\n",
    "    KNeighborsClassifier(3),\n",
    "    SVC(kernel=\"linear\", C=0.025),\n",
    "    SVC(gamma=2, C=1),\n",
    "    GaussianProcessClassifier(1.0 * RBF(1.0)),\n",
    "    DecisionTreeClassifier(max_depth=5),\n",
    "    RandomForestClassifier(max_depth=5, n_estimators=10, max_features=1),\n",
    "    MLPClassifier(alpha=1, max_iter=1000),\n",
    "    AdaBoostClassifier(),\n",
    "    GaussianNB(),\n",
    "    QuadraticDiscriminantAnalysis()\n",
    "]\n",
    "\n",
    "classifier_list = zip(classifier_names, classifiers)\n",
    "result_list = list()\n",
    "\n",
    "for classifier_name, classifier in classifier_list:\n",
    "    if classifier_name == \"RBF SVM\":\n",
    "        continue\n",
    "    print(f'▼計算中：{classifier_name}')\n",
    "    start = time.time()\n",
    "    kfold = KFold(n_splits=10, random_state=42, shuffle=True)\n",
    "    scoring = 'recall'\n",
    "    scores = cross_val_score(classifier, X, y, cv=kfold, scoring=scoring, n_jobs=-1)\n",
    "    elapsed_time = time.time() - start\n",
    "    result_list.append([classifier_name, abs(round(np.mean(scores),4)), round(elapsed_time, 2)])\n",
    "    print(f'{round(elapsed_time, 2)}秒\\n')\n",
    "\n",
    "# 可視化\n",
    "fig, ax = plt.subplots(figsize=(20,10), dpi=80)\n",
    "df_result = pd.DataFrame(result_list, columns=['estimator', scoring, 'processing_time']).set_index('estimator').sort_values(scoring)\n",
    "\n",
    "# モデル別スコア\n",
    "index = df_result.index\n",
    "values = df_result[scoring]\n",
    "ax.bar(index, values)\n",
    "ax.set_title('モデル別スコア')\n",
    "ax.set_ylim(0.9,1.0)\n",
    "ax.grid()\n",
    "plt.show()"
   ]
  },
  {
   "cell_type": "code",
   "execution_count": null,
   "metadata": {
    "id": "rbQ8OAB3tXkf"
   },
   "outputs": [],
   "source": [
    "# 時間・スコア別モデル\n",
    "fig, ax = plt.subplots(figsize=(10,5), dpi=160)\n",
    "y_ = df_result[scoring]\n",
    "x_ = df_result.processing_time\n",
    "names = df_result.index\n",
    "ax.scatter(x_, y_)\n",
    "ax.set_title('モデル別処理時間 - スコア（検出率）')\n",
    "\n",
    "for (i,j,k) in zip(x_,y_,names):\n",
    "        ax.annotate(k, xy=(i, j))\n",
    "\n",
    "ax.set_xlabel('処理時間 [s]')\n",
    "ax.set_ylabel('スコア（検出率）')\n",
    "ax.grid()\n",
    "plt.show()"
   ]
  },
  {
   "cell_type": "markdown",
   "metadata": {
    "id": "j2bZbx0tOI2W"
   },
   "source": [
    "# クラスタリング"
   ]
  },
  {
   "cell_type": "markdown",
   "metadata": {
    "id": "Zet-fKZPVwMD"
   },
   "source": [
    "### データ読み込み"
   ]
  },
  {
   "cell_type": "code",
   "execution_count": null,
   "metadata": {
    "id": "EaXMfqrkQbXZ"
   },
   "outputs": [],
   "source": [
    "# df_cc = pd.read_csv('https://raw.githubusercontent.com/lokesharma92/CreditCard_Segmentation/master/CC%20GENERAL.csv')\n",
    "df_cc = pd.read_csv('https://raw.githubusercontent.com/aknr-t/CreditCard_Segmentation/master/CC%20GENERAL.csv')\n",
    "df_cc.columns = [\n",
    "    '顧客ID',\n",
    "    '残高',\n",
    "    '残高更新頻度',\n",
    "    '購入額',\n",
    "    '一括購入額',\n",
    "    '分割購入額',\n",
    "    'キャッシング額',\n",
    "    '購入頻度',\n",
    "    '一括購入頻度',\n",
    "    '分割購入頻度',\n",
    "    'キャッシング頻度',\n",
    "    'キャッシングトランザクション数',\n",
    "    '購入トランザクション数',\n",
    "    '限度額',\n",
    "    '返済総額',\n",
    "    '最小返済額',\n",
    "    '返済割合',\n",
    "    '返済期間'\n",
    "]\n",
    "print(df_cc.shape)\n",
    "df_cc = df_cc.dropna().reset_index().drop(['顧客ID', 'index'], axis=1)\n",
    "df_cc.head(10)"
   ]
  },
  {
   "cell_type": "markdown",
   "metadata": {
    "id": "YWghZCZ2bepR"
   },
   "source": [
    "### データ説明"
   ]
  },
  {
   "cell_type": "markdown",
   "metadata": {
    "id": "LhmmhtNcW0NQ"
   },
   "source": [
    "|カラム名（英）|カラム名（日）|詳細|\n",
    "|---|---|---|\n",
    "|CUST_ID |顧客ID| Identification of Credit Card holder (Categorical)|\n",
    "|BALANCE |残高| Balance amount left in their account to make purchases|\n",
    "|BALANCE_FREQUENCY |残高更新頻度| How frequently the Balance is updated, score between 0 and 1 (1 = frequently updated, 0 = not frequently updated)|\n",
    "|PURCHASES |購入額| Amount of purchases made from account|\n",
    "|ONEOFF_PURCHASES |一括購入額| Maximum purchase amount done in one-go|\n",
    "|INSTALLMENTS_PURCHASES |分割購入額| Amount of purchase done in installment|\n",
    "|CASH_ADVANCE |キャッシング額| Cash in advance given by the user|\n",
    "|PURCHASES_FREQUENCY |購入頻度| How frequently the Purchases are being made, score between 0 and 1 (1 = frequently purchased, 0 = not frequently purchased)|\n",
    "|ONEOFFPURCHASESFREQUENCY | 一括購入頻度|How frequently Purchases are happening in one-go (1 = frequently purchased, 0 = not frequently purchased)|\n",
    "|PURCHASESINSTALLMENTSFREQUENCY |分割購入頻度| How frequently purchases in installments are being done (1 = frequently done, 0 = not frequently done)|\n",
    "|CASHADVANCEFREQUENCY | キャッシング頻度|How frequently the cash in advance being paid|\n",
    "|CASHADVANCETRX | キャッシングトランザクション数|Number of Transactions made with \"Cash in Advanced\"|\n",
    "|PURCHASES_TRX | 購入トランザクション数|Number of purchase transactions made|\n",
    "|CREDIT_LIMIT | 限度額|Limit of Credit Card for user|\n",
    "|PAYMENTS |返済総額| Amount of Payment done by user|\n",
    "|MINIMUM_PAYMENTS | 最小返済額|Minimum amount of payments made by user|\n",
    "|PRCFULLPAYMENT | 返済割合 |Percent of full payment paid by user TENURE |\n",
    "|TENURE| 返済期間 | -|"
   ]
  },
  {
   "cell_type": "markdown",
   "metadata": {
    "id": "rNEby54Kbknb"
   },
   "source": [
    "### 特徴量別ヒストグラム"
   ]
  },
  {
   "cell_type": "code",
   "execution_count": null,
   "metadata": {
    "id": "g4ZoarfHZ7f2"
   },
   "outputs": [],
   "source": [
    "# 欠損処理\n",
    "df_cc.loc[(df_cc['最小返済額'].isnull()==True),'最小返済額']=df_cc['最小返済額'].mean()\n",
    "df_cc.loc[(df_cc['限度額'].isnull()==True),'限度額']=df_cc['限度額'].mean()\n",
    "\n",
    "fig, axes = plt.subplots(4, 5, dpi=120, figsize=(20,10))\n",
    "fig.subplots_adjust(wspace=0.3, hspace=0.5, top=0.92)\n",
    "\n",
    "# ヒストグラム描画\n",
    "for i, column in enumerate(df_cc.columns):\n",
    "    ax = axes[i//5, i%5]\n",
    "    ax.hist(df_cc[column], bins=20)\n",
    "    ax.set_title(column)\n",
    "    ax.grid()\n",
    "    ax.set_ylim(0,10000)\n",
    "\n",
    "# 余剰グラフ非表示\n",
    "for i in range(df_cc.shape[1], axes.flatten().shape[0]):\n",
    "    ax = axes[i//5, i%5]\n",
    "    ax.axis(\"off\")\n",
    "\n",
    "plt.show()"
   ]
  },
  {
   "cell_type": "markdown",
   "metadata": {
    "id": "LIr1fUuCcBHe"
   },
   "source": [
    "### 散布図行列"
   ]
  },
  {
   "cell_type": "code",
   "execution_count": null,
   "metadata": {
    "id": "qFZ__ptKcC9I"
   },
   "outputs": [],
   "source": [
    "## ★実行に時間がかかるためスライドで説明\n",
    "sns.pairplot(df_cc)\n",
    "plt.show()"
   ]
  },
  {
   "cell_type": "markdown",
   "metadata": {
    "id": "o45OWIj6bqDg"
   },
   "source": [
    "### KMeans"
   ]
  },
  {
   "cell_type": "code",
   "execution_count": null,
   "metadata": {
    "id": "hlL-Je5dbsJD"
   },
   "outputs": [],
   "source": [
    "mglearn.plots.plot_kmeans_algorithm()"
   ]
  },
  {
   "cell_type": "markdown",
   "metadata": {
    "id": "sFyhflW1eK1b"
   },
   "source": [
    "### KMeansを適用"
   ]
  },
  {
   "cell_type": "code",
   "execution_count": null,
   "metadata": {
    "id": "9sK0uMjZaS87"
   },
   "outputs": [],
   "source": [
    "# 標準化\n",
    "X= np.asarray(df_cc)\n",
    "scale = StandardScaler()\n",
    "X = scale.fit_transform(X)\n",
    "\n",
    "# クラスタリング時の最小二乗誤差総和推移（1〜30）\n",
    "n_clusters=30\n",
    "cost=[]\n",
    "for i in range(1,n_clusters):\n",
    "    kmean= KMeans(i, random_state=0)\n",
    "    kmean.fit(X)\n",
    "    cost.append(kmean.inertia_)\n",
    "\n",
    "# 描画\n",
    "fig, ax = plt.subplots(figsize=(10,5),dpi=200)\n",
    "ax.plot(cost, 'bo-')\n",
    "ax.set_xlabel('クラスタ数')\n",
    "ax.set_ylabel('最小二乗誤差総和')"
   ]
  },
  {
   "cell_type": "markdown",
   "metadata": {
    "id": "kONiQLa3hN7p"
   },
   "source": [
    "### クラスタ数6で分析"
   ]
  },
  {
   "cell_type": "code",
   "execution_count": null,
   "metadata": {
    "id": "2yceH7I4bMjM"
   },
   "outputs": [],
   "source": [
    "# クラスタ数を定義\n",
    "n_clusters = 6\n",
    "\n",
    "# クラスタリング\n",
    "kmean= KMeans(n_clusters=n_clusters, random_state=0)\n",
    "kmean.fit(X)\n",
    "labels=kmean.labels_\n",
    "clusters=pd.concat([df_cc.iloc[:,1:], pd.DataFrame({'cluster':labels})], axis=1)\n",
    "clusters.head()"
   ]
  },
  {
   "cell_type": "markdown",
   "metadata": {
    "id": "J4220pGkhVE1"
   },
   "source": [
    "### クラスタ分類結果"
   ]
  },
  {
   "cell_type": "code",
   "execution_count": null,
   "metadata": {
    "id": "sgzF1k-A97zd"
   },
   "outputs": [],
   "source": []
  },
  {
   "cell_type": "code",
   "execution_count": null,
   "metadata": {
    "id": "wnDArHgqp6R6"
   },
   "outputs": [],
   "source": [
    "# クラスタ別顧客数確認\n",
    "clusters.groupby('cluster').count()[['残高更新頻度']].plot(kind='bar', figsize=(12,6))\n",
    "plt.show()"
   ]
  },
  {
   "cell_type": "markdown",
   "metadata": {
    "id": "GvCEk0X5iLTr"
   },
   "source": [
    "### クラスタ毎・属性毎分布"
   ]
  },
  {
   "cell_type": "code",
   "execution_count": null,
   "metadata": {
    "id": "vMm0DoZaqfSC"
   },
   "outputs": [],
   "source": [
    "n_rows = len(clusters.columns)\n",
    "n_columns = n_clusters\n",
    "\n",
    "stat_all = list()\n",
    "for i, column in enumerate(clusters.columns):\n",
    "    if column == '顧客ID':\n",
    "        continue\n",
    "\n",
    "    # binの取得\n",
    "    fig, axes = plt.subplots()\n",
    "    n, bins, patches = axes.hist(clusters[column])\n",
    "    plt.clf()\n",
    "\n",
    "    fig, axes = plt.subplots(1, n_columns, figsize=(12,2), dpi=200)\n",
    "    fig.suptitle(column)\n",
    "    fig.tight_layout()\n",
    "\n",
    "    stat_cluster = list()\n",
    "    for j, cluster in enumerate(range(n_clusters)):\n",
    "        ax = axes[j]\n",
    "        n_cluster, bins_cluster, patches_cluster = ax.hist(clusters.query('cluster == @cluster')[column], bins=bins)\n",
    "        ax.grid(color='gray', alpha=0.5)\n",
    "\n",
    "        # # 中央値の取得\n",
    "        # stat = clusters.query('cluster == @cluster')[column].median()\n",
    "\n",
    "        # 平均値の取得\n",
    "        stat = clusters.query('cluster == @cluster')[column].mean()\n",
    "\n",
    "        # 最大値の取得\n",
    "        bins_max = bins.max()\n",
    "        relative_stat = stat / bins_max\n",
    "        stat_cluster.append(relative_stat)\n",
    "\n",
    "    stat_all.append(stat_cluster)\n",
    "    plt.show()"
   ]
  },
  {
   "cell_type": "code",
   "execution_count": null,
   "metadata": {
    "id": "dkg8fipdAjRc"
   },
   "outputs": [],
   "source": [
    "df_mode"
   ]
  },
  {
   "cell_type": "code",
   "execution_count": null,
   "metadata": {
    "id": "nRpnHcE14CJr"
   },
   "outputs": [],
   "source": [
    "df_mode = pd.DataFrame(stat_all)\n",
    "df_mode.columns = ['cluster_' + str(x) for x in df_mode.columns]\n",
    "df_mode.index = clusters.columns\n",
    "\n",
    "df_mode_summary = df_mode.loc[[\n",
    "             '購入額',\n",
    "             '限度額',\n",
    "             '返済総額',\n",
    "             '一括購入額',\n",
    "             '残高更新頻度',\n",
    "             '購入頻度',\n",
    "             '一括購入頻度',\n",
    "             '分割購入頻度',\n",
    "             'キャッシング頻度',\n",
    "             ],\n",
    "            :\n",
    "]\n",
    "\n",
    "def plot_polar(labels, values, imgname, cluster):\n",
    "    angles = np.linspace(0, 2 * np.pi, len(labels) + 1, endpoint=True)\n",
    "    values = np.concatenate((values, [values[0]]))  # 閉じた多角形にする\n",
    "    fig = plt.figure(figsize=(8,8))\n",
    "    ax = fig.add_subplot(111, polar=True)\n",
    "    # ax.boxplot(angles, values)\n",
    "    ax.plot(angles, values, 'o-')  # 外枠\n",
    "    ax.fill(angles, values, alpha=0.25)  # 塗りつぶし\n",
    "    ax.set_thetagrids(angles[:-1] * 180 / np.pi, labels)  # 軸ラベル\n",
    "    ax.set_rlim(0 ,1)\n",
    "    ax.set_title(cluster, fontsize=14)\n",
    "    fig.savefig(imgname)\n",
    "    plt.show()\n",
    "    plt.close(fig)\n",
    "\n",
    "for i, cluster in enumerate(df_mode_summary.columns):\n",
    "    labels = df_mode_summary.index\n",
    "    values = df_mode_summary[cluster].values\n",
    "    plot_polar(labels, values, \"radar.png\", cluster)\n",
    "    print('')"
   ]
  },
  {
   "cell_type": "markdown",
   "metadata": {
    "id": "ZVTZyoGKoyW2"
   },
   "source": [
    "# ディープラーニング（分類）"
   ]
  },
  {
   "cell_type": "markdown",
   "metadata": {
    "id": "FYBnzRk5rqDr"
   },
   "source": [
    "## データ読み込み"
   ]
  },
  {
   "cell_type": "markdown",
   "metadata": {
    "id": "NEG82tpasJug"
   },
   "source": [
    "### 学習データの確認"
   ]
  },
  {
   "cell_type": "code",
   "execution_count": null,
   "metadata": {
    "id": "QO-7rFvco5GH"
   },
   "outputs": [],
   "source": [
    "from keras.datasets import mnist\n",
    "(train_images, train_labels), (test_images, test_labels) = mnist.load_data()\n",
    "\n",
    "#MNISTデータの表示\n",
    "fig = plt.figure(figsize=(9, 9))\n",
    "fig.subplots_adjust(left=0, right=1, bottom=0, top=0.5, hspace=0.05, wspace=0.05)\n",
    "for i in range(9*9):\n",
    "    ax = fig.add_subplot(9, 9, i + 1, xticks=[], yticks=[])\n",
    "    ax.imshow(train_images[i].reshape((28, 28)), cmap='gray')\n",
    "\n",
    "plt.show()\n",
    "\n",
    "## 学習用サンプル数\n",
    "print(f'\\n学習用サンプル\\t：{train_images.shape[0]}\\n高さ\\t\\t\\t：{train_images.shape[1]}\\n幅\\t\\t\\t：{train_images.shape[2]}\\n\\n')\n",
    "\n",
    "print(f'学習用正解数：{len(train_labels)}')\n",
    "print('\\n',train_labels[:81].reshape(9,9))"
   ]
  },
  {
   "cell_type": "markdown",
   "metadata": {
    "id": "QWXTdDHqsMQR"
   },
   "source": [
    "### テストデータの確認"
   ]
  },
  {
   "cell_type": "code",
   "execution_count": null,
   "metadata": {
    "id": "DoG1lM60sPOk"
   },
   "outputs": [],
   "source": [
    "#MNISTデータの表示\n",
    "fig = plt.figure(figsize=(9, 9))\n",
    "fig.subplots_adjust(left=0, right=1, bottom=0, top=0.5, hspace=0.05, wspace=0.05)\n",
    "for i in range(9*9):\n",
    "    ax = fig.add_subplot(9, 9, i + 1, xticks=[], yticks=[])\n",
    "    ax.imshow(test_images[i].reshape((28, 28)), cmap='gray')\n",
    "\n",
    "plt.show()\n",
    "\n",
    "print(f'\\n学習用サンプル\\t：{test_images.shape[0]}\\n高さ\\t\\t\\t：{test_images.shape[1]}\\n幅\\t\\t\\t：{test_images.shape[2]}\\n\\n')\n",
    "print(f'テスト用正解数：{len(test_labels)}')\n",
    "print('\\n',test_labels[:81].reshape(9,9))"
   ]
  },
  {
   "cell_type": "markdown",
   "metadata": {
    "id": "0vT_pEIvs86z"
   },
   "source": [
    "## モデル構築"
   ]
  },
  {
   "cell_type": "code",
   "execution_count": null,
   "metadata": {
    "id": "C-TgTKqps98o"
   },
   "outputs": [],
   "source": [
    "from keras import models\n",
    "from keras import layers\n",
    "\n",
    "network = models.Sequential()\n",
    "network.add(layers.Dense(512, activation='relu', input_shape=(28 * 28,)))\n",
    "network.add(layers.Dense(10, activation='softmax'))\n",
    "\n",
    "network.compile(optimizer='rmsprop',\n",
    "                loss='categorical_crossentropy',\n",
    "                metrics=['accuracy'])\n",
    "\n",
    "SVG(model_to_dot(network, show_shapes=True, show_layer_names=False, dpi=72).create(prog='dot', format='svg'))"
   ]
  },
  {
   "cell_type": "markdown",
   "metadata": {
    "id": "NeLIyx6huBLl"
   },
   "source": [
    "## 前処理"
   ]
  },
  {
   "cell_type": "code",
   "execution_count": null,
   "metadata": {
    "id": "m0ArHl5OuCsY"
   },
   "outputs": [],
   "source": [
    "train_images = train_images.reshape((60000, 28 * 28))\n",
    "train_images = train_images.astype('float32') / 255\n",
    "test_images = test_images.reshape((10000, 28 * 28))\n",
    "test_images = test_images.astype('float32') / 255\n",
    "train_labels = to_categorical(train_labels)\n",
    "test_labels = to_categorical(test_labels)\n",
    "print(train_labels[:10])"
   ]
  },
  {
   "cell_type": "markdown",
   "metadata": {
    "id": "faCuW3GZubZW"
   },
   "source": [
    "## 訓練・検証"
   ]
  },
  {
   "cell_type": "code",
   "execution_count": null,
   "metadata": {
    "id": "b_ntPhapuYXF"
   },
   "outputs": [],
   "source": [
    "history = network.fit(train_images, train_labels, epochs=20, batch_size=512, validation_data=(test_images, test_labels))"
   ]
  },
  {
   "cell_type": "code",
   "execution_count": null,
   "metadata": {
    "id": "ngNgDYyUuuQo"
   },
   "outputs": [],
   "source": [
    "fig, axes = plt.subplots(1, 2, figsize=(10,4), dpi=200)\n",
    "\n",
    "for i, columns in enumerate([['loss', 'val_loss'], ['accuracy', 'val_accuracy']]):\n",
    "    train = history.history[columns[0]]\n",
    "    test = history.history[columns[1]]\n",
    "\n",
    "    ax = axes[i]\n",
    "    ax.plot(range(1, len(train)+1), train, label=columns[0], marker='o', ms=5)\n",
    "    ax.plot(range(1, len(test)+1), test, label=columns[1], marker='o', ms=5)\n",
    "\n",
    "    # plot best score\n",
    "    if columns[0] == 'loss':\n",
    "        best_score = min(test)\n",
    "    elif columns[0] == 'accuracy':\n",
    "        best_score = max(test)\n",
    "    ax.hlines(best_score, 0, 20, color='red', alpha=0.5, linestyle='--', label='best val score')\n",
    "\n",
    "    ax.set_xlabel('学習回数（epochs）')\n",
    "    ax.set_ylabel(columns[0])\n",
    "    ax.set_title(f'{columns[0]} and {columns[1]}')\n",
    "    ax.legend()\n",
    "\n",
    "plt.show()\n",
    "print('')"
   ]
  }
 ],
 "metadata": {
  "colab": {
   "collapsed_sections": [],
   "name": "【AI基礎研修】機械学習・ディープラーニング体験",
   "provenance": []
  },
  "kernelspec": {
   "display_name": "Python 3",
   "language": "python",
   "name": "python3"
  },
  "language_info": {
   "codemirror_mode": {
    "name": "ipython",
    "version": 3
   },
   "file_extension": ".py",
   "mimetype": "text/x-python",
   "name": "python",
   "nbconvert_exporter": "python",
   "pygments_lexer": "ipython3",
   "version": "3.8.5"
  },
  "toc": {
   "base_numbering": 1,
   "nav_menu": {},
   "number_sections": true,
   "sideBar": true,
   "skip_h1_title": false,
   "title_cell": "Table of Contents",
   "title_sidebar": "Contents",
   "toc_cell": false,
   "toc_position": {},
   "toc_section_display": true,
   "toc_window_display": false
  }
 },
 "nbformat": 4,
 "nbformat_minor": 1
}
